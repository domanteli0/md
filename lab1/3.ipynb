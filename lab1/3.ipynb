{
 "cells": [
  {
   "cell_type": "code",
   "execution_count": 1,
   "metadata": {},
   "outputs": [],
   "source": [
    "from sympy import Function, dsolve, Derivative, E, Eq, lambdify, symbols, solve\n",
    "from sympy import print_python, print_maple_code, print_latex, latex\n",
    "from sympy.abc import x\n",
    "import sympy as sm\n",
    "import numpy as np\n",
    "import matplotlib.pyplot as plt"
   ]
  },
  {
   "cell_type": "code",
   "execution_count": 2,
   "metadata": {},
   "outputs": [
    {
     "data": {
      "text/latex": [
       "$\\displaystyle y{\\left(x \\right)} = \\frac{C_{1} - \\log{\\left(x \\right)}}{x}$"
      ],
      "text/plain": [
       "Eq(y(x), (C1 - log(x))/x)"
      ]
     },
     "metadata": {},
     "output_type": "display_data"
    }
   ],
   "source": [
    "y = Function('y')\n",
    "\n",
    "eq = Eq(\n",
    "    x**2 * Derivative(y(x), x) + x * y(x) + 1,\n",
    "    0\n",
    "    )\n",
    "\n",
    "solution = dsolve(eq)\n",
    "display(solution)"
   ]
  },
  {
   "cell_type": "code",
   "execution_count": 15,
   "metadata": {},
   "outputs": [
    {
     "name": "stdout",
     "output_type": "stream",
     "text": [
      "0.3690083253761175\n"
     ]
    },
    {
     "ename": "TypeError",
     "evalue": "float() argument must be a string or a real number, not 'list'",
     "output_type": "error",
     "traceback": [
      "\u001b[0;31m---------------------------------------------------------------------------\u001b[0m",
      "\u001b[0;31mTypeError\u001b[0m                                 Traceback (most recent call last)",
      "Cell \u001b[0;32mIn[15], line 8\u001b[0m\n\u001b[1;32m      5\u001b[0m eq \u001b[38;5;241m=\u001b[39m (sol\u001b[38;5;241m.\u001b[39mrhs)\n\u001b[1;32m      6\u001b[0m \u001b[38;5;28mprint\u001b[39m(\u001b[38;5;28mfloat\u001b[39m(solve(Eq(sol\u001b[38;5;241m.\u001b[39mrhs, \u001b[38;5;241m10\u001b[39m))[\u001b[38;5;241m0\u001b[39m]))\n\u001b[0;32m----> 8\u001b[0m x_vals \u001b[38;5;241m=\u001b[39m np\u001b[38;5;241m.\u001b[39mlinspace(\u001b[38;5;28;43mfloat\u001b[39;49m\u001b[43m(\u001b[49m\u001b[43msolve\u001b[49m\u001b[43m(\u001b[49m\u001b[43meq\u001b[49m\u001b[43m)\u001b[49m\u001b[43m)\u001b[49m, \u001b[38;5;241m5\u001b[39m, \u001b[38;5;241m100\u001b[39m)\n\u001b[1;32m      9\u001b[0m y_vals1 \u001b[38;5;241m=\u001b[39m sol1(x_vals)\n\u001b[1;32m     11\u001b[0m plt\u001b[38;5;241m.\u001b[39mfigure(figsize\u001b[38;5;241m=\u001b[39m(\u001b[38;5;241m6\u001b[39m, \u001b[38;5;241m6\u001b[39m))\n",
      "\u001b[0;31mTypeError\u001b[0m: float() argument must be a string or a real number, not 'list'"
     ]
    }
   ],
   "source": [
    "sol = solution\n",
    "\n",
    "sol = sol.subs('C1', sm.log(2) + 2)\n",
    "sol1 = lambdify(x, sol.rhs)\n",
    "eq = (sol.rhs)\n",
    "x_limit = float(solve(Eq(sol.rhs, 10))[0]) \n",
    "\n",
    "x_vals = np.linspace(x_limit, 5, 100)\n",
    "y_vals1 = sol1(x_vals)\n",
    "\n",
    "plt.figure(figsize=(6, 6))\n",
    "\n",
    "plt.plot(x_vals, y_vals1, label='$log(x) + 2$', color='blue')\n",
    "plt.plot(2, 1, 'bo', label=\"Koši taškas\")\n",
    "\n",
    "plt.title(f\"${latex(sol)}$\")\n",
    "plt.xlabel(\"x\")\n",
    "plt.ylabel(\"y\")\n",
    "plt.legend()\n",
    "plt.grid(True)\n",
    "\n",
    "plt.show()"
   ]
  }
 ],
 "metadata": {
  "kernelspec": {
   "display_name": ".venv",
   "language": "python",
   "name": "python3"
  },
  "language_info": {
   "codemirror_mode": {
    "name": "ipython",
    "version": 3
   },
   "file_extension": ".py",
   "mimetype": "text/x-python",
   "name": "python",
   "nbconvert_exporter": "python",
   "pygments_lexer": "ipython3",
   "version": "3.12.7"
  }
 },
 "nbformat": 4,
 "nbformat_minor": 2
}
